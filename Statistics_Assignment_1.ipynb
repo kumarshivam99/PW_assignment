{
  "nbformat": 4,
  "nbformat_minor": 0,
  "metadata": {
    "colab": {
      "provenance": [],
      "authorship_tag": "ABX9TyPnK7Y3egDSJ/3xzI+AM2tM",
      "include_colab_link": true
    },
    "kernelspec": {
      "name": "python3",
      "display_name": "Python 3"
    },
    "language_info": {
      "name": "python"
    }
  },
  "cells": [
    {
      "cell_type": "markdown",
      "metadata": {
        "id": "view-in-github",
        "colab_type": "text"
      },
      "source": [
        "<a href=\"https://colab.research.google.com/github/kumarshivam99/PW_assignment/blob/main/Statistics_Assignment_1.ipynb\" target=\"_parent\"><img src=\"https://colab.research.google.com/assets/colab-badge.svg\" alt=\"Open In Colab\"/></a>"
      ]
    },
    {
      "cell_type": "markdown",
      "source": [
        "**Q1. What is Statistics?**"
      ],
      "metadata": {
        "id": "26SbmazvR_NN"
      }
    },
    {
      "cell_type": "markdown",
      "source": [
        "The study of how to gather, analyse, interpret, and present data is known as statistics. It is a field of mathematics that focuses on data analysis, which can be used to learn more, predict the future, and guide decision-making.\n"
      ],
      "metadata": {
        "id": "L0zHjG2eSKuz"
      }
    },
    {
      "cell_type": "markdown",
      "source": [
        "**Q2. Define the different types of statistics and give an example of when each type might be used.**"
      ],
      "metadata": {
        "id": "2OZx8XDLTU35"
      }
    },
    {
      "cell_type": "markdown",
      "source": [
        "There are two major types of Statistics:\n",
        "\n",
        "**Descriptive Statistics**: Descriptive statistics are used to quantify and describe the properties of a dataset by gathering,analyzing, and presenting data. It is used to present an easily understood and insightful summary of the data. When data are available for the entire population of interest or when a sample is used to estimate population parameters, descriptive statistics are typically used.\n",
        "\n",
        "**Example:** A researcher collects data of 50 students height in a Math class. The researcher uses descriptive statistics to summarize the data by calculating the mean height, standard deviation, and creating a histogram to visualize the distribution of heights.\n",
        "\n",
        "**Inferential Statistics:** Making assumptions or generalisations about a population based on data from a sample is known as inferential statistics. Using the sample data, it is used to make inferences about the population or test hypotheses. When data for the complete population is unavailable, inferential statistics are typically employed to draw conclusions about the population from a sample.\n",
        "\n",
        "**Example:** A company collect sample data for exit poll. It collect a sample of data from entire voter list. The company may use techniques such as hypothesis testing, confidence intervals, or regression analysis to draw conclusions about the whole population voting preference.\n",
        "\n"
      ],
      "metadata": {
        "id": "hS6cXMKTUZ0Z"
      }
    },
    {
      "cell_type": "markdown",
      "source": [
        "**Q3. What are the different types of data and how do they differ from each other? Provide an example of\n",
        "each type of data.**"
      ],
      "metadata": {
        "id": "4xTea2iiWa3t"
      }
    },
    {
      "cell_type": "markdown",
      "source": [
        "The two major types of data are:\n",
        "\n",
        "\n",
        "1.   **Quantitative Data:** When data is collected about a variable that can be measured with numerical values, it is called quantitative data.\n",
        "Examples of quantitative data include age, height, weight, and number of hours worked.\n",
        "2.  **Qualitative Data:** When data is collected about a variable that represents categories or attributes, it is called qualitative data.\n",
        "Examples of qualitative data include gender, occupation, color, and type of car."
      ],
      "metadata": {
        "id": "yvZDFO9YW4cg"
      }
    },
    {
      "cell_type": "markdown",
      "source": [
        "**Q4. Categorise the following datasets with respect to quantitative and qualitative data types:\n",
        "\n",
        "(i) Grading in exam: A+, A, B+, B, C+, C, D, E\n",
        "\n",
        "(ii) Colour of mangoes: yellow, green, orange, red\n",
        "\n",
        "(iii) Height data of a class: [178.9, 179, 179.5, 176, 177.2, 178.3, 175.8,...]\n",
        "\n",
        "(iv) Number of mangoes exported by a farm: [500, 600, 478, 672, ...]**"
      ],
      "metadata": {
        "id": "Z_dhdr2mXNgF"
      }
    },
    {
      "cell_type": "markdown",
      "source": [
        "\n",
        "\n",
        "1.   Qualitative\n",
        "2.   Qualitative\n",
        "3.   Quantitative\n",
        "4.   Quantitative\n",
        "\n",
        "\n",
        "\n",
        "\n",
        "\n",
        "\n"
      ],
      "metadata": {
        "id": "JHeO4yA_XYLR"
      }
    },
    {
      "cell_type": "markdown",
      "source": [
        "**Q5. Explain the concept of levels of measurement and give an example of a variable for each level.**"
      ],
      "metadata": {
        "id": "Ionump3OYCtR"
      }
    },
    {
      "cell_type": "markdown",
      "source": [
        "\n",
        "\n",
        "1.  Nominal Level: There is no order between the categories, but you can categorise your data by grouping it into mutually exclusive groupings.\n",
        "Examples: names, marital status,birthplace, gender,ethnicity,\n",
        "\n",
        "2.  Ordinal Level: You are able to categorise and order your data, but you are unable to make any claims about the gaps between the ranks.\n",
        "Examples: Educational Degree, measurement of the variable “income” (eg: low income, medium income, high income)\n",
        "3.   Interval Level:There is no real zero point, but you can classify, rank, and infer equal intervals between nearby data points.\n",
        "Examples: Test scores (e.g., IQ or exams), Personality inventories, Temperature in Fahrenheit or Celsius\n",
        "\n",
        "4.   Ratio Level: There is an actual zero point, and you can categorise, rank, and deduce equal distances between nearby data points.\n",
        "A true zero indicates the lack of the relevant variable. Zero does signify a complete absence of the variable in ratio scales.\n",
        "For example, in the Kelvin temperature scale, there are no negative degrees of temperature – zero means an absolute lack of thermal energy.\n",
        "Other Exmaples: Height, Age, Weight"
      ],
      "metadata": {
        "id": "C_Bvs2zPYOiY"
      }
    },
    {
      "cell_type": "markdown",
      "source": [
        "**Q6. Why is it important to understand the level of measurement when analyzing data? Provide an\n",
        "example to illustrate your answer.**"
      ],
      "metadata": {
        "id": "qnGAuslneiD7"
      }
    },
    {
      "cell_type": "markdown",
      "source": [
        "When analysing data, it is crucial to comprehend the degree of measurement because it affects the kinds of statistical analyses that can be run on the data as well as how the findings should be interpreted. Different degrees of measurement call for different forms of statistical analysis, and utilising the wrong analysis can lead to incorrect findings.\n",
        "\n",
        "If a variable is nominal, it is inappropriate to perform calculations such as mean or standard deviation, as these statistics are not meaningful for categorical data. Instead, appropriate measures for nominal data include frequency counts and percentages. If a variable is ordinal, it is appropriate to use measures such as median or mode, but not mean, as the ranking of the values does not necessarily correspond to equal intervals. If a variable is interval or ratio, all three measures (mean, median, and mode) can be used, as well as measures such as standard deviation and correlation.\n",
        "\n",
        "An example to illustrate the importance of understanding the level of measurement is the analysis of income data. If income is measured as a nominal variable with categories such as \"less than 20,000\", \"20,000 to 40,000\", and \"more than 40,000\", it would be inappropriate to calculate the mean income, as the categories do not represent equal intervals. Instead, appropriate measures would include the frequency counts and percentages of individuals in each income category. If income is measured as a ratio variable in dollars, the mean income can be calculated and compared across different groups or time periods, and statistical tests such as t-tests or ANOVA can be used to determine whether there are significant differences in income between groups."
      ],
      "metadata": {
        "id": "TUET8SiYeowC"
      }
    },
    {
      "cell_type": "markdown",
      "source": [
        "**Q7. How nominal data type is different from ordinal data type.**"
      ],
      "metadata": {
        "id": "5nanvctWfNZG"
      }
    },
    {
      "cell_type": "markdown",
      "source": [
        "Nominal data : A type of categorical data known as nominal data has categories that are unranked and without any sort of inherent ranking or order. No suggested hierarchy or order is present in nominal data; it merely depicts various categories or groups. Nominal data examples include gender (male/female), hair colour (blonde, brown, black, etc.), and political party identification (Republican, Democrat, Independent, etc.).\n",
        "\n",
        "Ordinal data: While ordinal data also falls within the category of categorical data, the categories in ordinal data have a defined hierarchy. In other words, a meaningful ranking of the categories is possible. Education level (such as high school, some college, a bachelor's or master's degree, etc.), socioeconomic class (such as low, middle, high), or degree of agreement (such as strongly disagree, disagree, neutral, agree, strongly agree) are a few examples of ordinal data.\n",
        "\n",
        "The main difference between nominal and ordinal data is that ordinal data has a specific order or ranking of the categories, while nominal data does not."
      ],
      "metadata": {
        "id": "CoGzKUkGfV8q"
      }
    },
    {
      "cell_type": "markdown",
      "source": [
        "**Q8. Which type of plot can be used to display data in terms of range?**"
      ],
      "metadata": {
        "id": "yFYHcLygfuca"
      }
    },
    {
      "cell_type": "markdown",
      "source": [
        "A box plot, sometimes referred to as a box-and-whisker plot, is a form of diagram that can be used to show data in terms of range. A box plot is a visual representation of the distribution of a collection of continuous data that uses the minimum value, first quartile (Q1), median, third quartile (Q3), and maximum value as its five summary statistics.\n",
        "\n",
        "A box plot, for instance, could be used to show the temperature range that was observed in a city over a specific time period. The whiskers would stand in for the minimum and maximum values, and the box would stand in for the interquartile range (the middle 50% of the data). A line within the box would serve as a representation of the median temperature. This would make it simple to compare temperature ranges across several months or years and would also allow any extremely high or low temperatures to be identified as outliers."
      ],
      "metadata": {
        "id": "wCQ33l1Kfwgm"
      }
    },
    {
      "cell_type": "markdown",
      "source": [
        "**Q9. Describe the difference between descriptive and inferential statistics. Give an example of each\n",
        "type of statistics and explain how they are used.**"
      ],
      "metadata": {
        "id": "KhBsmd3vgjQc"
      }
    },
    {
      "cell_type": "markdown",
      "source": [
        "Descriptive statistics involves summarizing and describing the main features of a data set, such as measures of central tendency (mean, median, mode) and measures of dispersion (range, standard deviation, variance). Descriptive statistics is used to provide a snapshot or summary of the data, in order to gain an understanding of the characteristics and patterns of the data set.\n",
        "\n",
        "Examples of descriptive statistics include calculating the mean height of a group of people or the standard deviation of their weights.\n",
        "\n",
        "Inferential statistics, on the other hand, involves using statistical methods to make inferences or draw conclusions about a population based on a sample of data. Inferential statistics is used to test hypotheses or answer research questions, by making predictions or generalizations about a larger group based on a smaller subset of data.\n",
        "\n",
        "Examples of inferential statistics include hypothesis testing, confidence intervals, and regression analysis."
      ],
      "metadata": {
        "id": "iGLOUc1PgoNs"
      }
    },
    {
      "cell_type": "markdown",
      "source": [
        "**Q10. What are some common measures of central tendency and variability used in statistics? Explain\n",
        "how each measure can be used to describe a dataset.**"
      ],
      "metadata": {
        "id": "7M0nUC7FgsOz"
      }
    },
    {
      "cell_type": "markdown",
      "source": [
        "Some of the common Measures of Central Tendency used in Statistics are:\n",
        "\n",
        "Mean: The arithmetic mean, or average, is calculated by summing all the values in a dataset and dividing by the number of values. The mean is a useful measure of central tendency when the data is normally distributed and there are no extreme values or outliers.\n",
        "\n",
        "Median: The median is the middle value in a dataset when the values are arranged in order. The median is useful when there are extreme values or outliers in the dataset, since it is not affected by these values in the same way as the mean.\n",
        "\n",
        "Mode: The mode is the most common value in a dataset. The mode is useful when dealing with categorical data or discrete variables, where there may be several values that occur with the same frequency.\n",
        "\n",
        "Some of the common Measures of Variability used in Statistics are:\n",
        "\n",
        "Range: The range is the difference between the largest and smallest values in a dataset. The range provides a simple measure of variability, but it can be sensitive to extreme values or outliers.\n",
        "\n",
        "Variance: The variance measures the average squared deviation from the mean in a dataset. The variance is useful when you want to quantify the spread of a dataset, and it is used in many statistical tests and models.\n",
        "\n",
        "Standard deviation: The standard deviation is the square root of the variance. The standard deviation provides a more intuitive measure of variability, since it is in the same units as the original data."
      ],
      "metadata": {
        "id": "x3_kKf04g2AT"
      }
    }
  ]
}