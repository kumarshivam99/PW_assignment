{
  "nbformat": 4,
  "nbformat_minor": 0,
  "metadata": {
    "colab": {
      "provenance": [],
      "authorship_tag": "ABX9TyPDbO0dW/ibw1+QZ2CuQTIQ",
      "include_colab_link": true
    },
    "kernelspec": {
      "name": "python3",
      "display_name": "Python 3"
    },
    "language_info": {
      "name": "python"
    }
  },
  "cells": [
    {
      "cell_type": "markdown",
      "metadata": {
        "id": "view-in-github",
        "colab_type": "text"
      },
      "source": [
        "<a href=\"https://colab.research.google.com/github/kumarshivam99/PW_assignment/blob/main/Regression_1.ipynb\" target=\"_parent\"><img src=\"https://colab.research.google.com/assets/colab-badge.svg\" alt=\"Open In Colab\"/></a>"
      ]
    },
    {
      "cell_type": "markdown",
      "source": [
        "**Q1. Explain the difference between simple linear regression and multiple linear regression. Provide an\n",
        "example of each.**\n"
      ],
      "metadata": {
        "id": "irqiRNaRRwfl"
      }
    },
    {
      "cell_type": "markdown",
      "source": [
        "Simple linear regression has only one x and one y variable.\n",
        "\n",
        "Ex: When we predict rent based on square feet alone that is simple linear regression.\n",
        "\n",
        "Multiple linear regression has one y and two or more x variables.\n",
        "\n",
        "Ex:When we predict rent based on square feet and age of the building that is an example of multiple linear regression."
      ],
      "metadata": {
        "id": "2xrvUSrdSC3O"
      }
    },
    {
      "cell_type": "markdown",
      "source": [
        "**Q2. Discuss the assumptions of linear regression. How can you check whether these assumptions hold in\n",
        "a given dataset?**"
      ],
      "metadata": {
        "id": "9V1Y3DvGURof"
      }
    },
    {
      "cell_type": "markdown",
      "source": [
        "The assumptions of linear regression are:\n",
        "\n",
        "**Linearity:** The relationship between the dependent variable and each independent variable is linear.\n",
        "\n",
        "**Independence**: The observations are independent of each other. This means that the value of the dependent variable for one observation should not be related to the value of the dependent variable for another observation.\n",
        "\n",
        "**Normality**: The errors are normally distributed. This means that the distribution of the residuals should be approximately normal.\n",
        "\n",
        "**No Multicollinearity**: There is no perfect multicollinearity between the independent variables. This means that the independent variables should not be highly correlated with each other.\n",
        "\n",
        "To check whether these assumptions hold in a given dataset, various diagnostic tests can be performed. These tests include:\n",
        "\n",
        "**Residual plots:** plotting the residuals against the predicted values and independent variables to detect patterns that violate the assumptions of linearity, homoscedasticity, and normality.\n",
        "\n",
        "**Normal probability plots:** plotting the residuals against the expected normal distribution to check for normality.\n",
        "\n",
        "**Outlier detection:** identifying and examining the influence of outliers on the regression model."
      ],
      "metadata": {
        "id": "nvhVzDf6UaHJ"
      }
    },
    {
      "cell_type": "markdown",
      "source": [
        "**Q3. How do you interpret the slope and intercept in a linear regression model? Provide an example using\n",
        "a real-world scenario.**"
      ],
      "metadata": {
        "id": "fV5kNzPIWZkI"
      }
    },
    {
      "cell_type": "markdown",
      "source": [
        "In a linear regression model, the slope and intercept define as follow:\n",
        "\n",
        "**The intercept** : It represents the mean value of the response variable when all of the predictor variables in the model are equal to zero.\n",
        "\n",
        "**The slope** : It represents the change in the dependent variable for each one-unit increase in the independent variable.\n",
        "\n",
        "Example:\n",
        "\n",
        "Suppose we want to understand the relationship between a math score  and their attendance . We collect data on 50 individuals and use a simple linear regression model to analyze the data. The regression model provides the following output:\n",
        "\n",
        "Intercept = 3\n",
        "Slope  = 1\n",
        "\n",
        "Interpretation:\n",
        "\n",
        "The intercept (3) represents the predicted score of a person with a atandance of zero, which is not meaningful in this context. Therefore, we do not interpret the intercept in this example.\n",
        "\n",
        "The slope (1) represents the predicted increase in score for each one-unit increase in attandance. So, for every one unit of attandace, we predict an increase of one unit in mark. This means that the relationship between score and attandance is positive and strong."
      ],
      "metadata": {
        "id": "EWupC-faWfQl"
      }
    },
    {
      "cell_type": "markdown",
      "source": [
        "**Q4. Explain the concept of gradient descent. How is it used in machine learning?**"
      ],
      "metadata": {
        "id": "ND0mdh7yBJQR"
      }
    },
    {
      "cell_type": "markdown",
      "source": [
        "Gradient descent is a popular optimization algorithm used in machine learning to minimize the cost function or the objective function. The goal of gradient descent is to find the optimal values of the parameters (also called weights) that minimize the cost function and make accurate predictions on new data.\n",
        "\n",
        "Gradient descent is used in many machine learning algorithms, such as linear regression, logistic regression, neural networks, and support vector machines. By minimizing the cost function using gradient descent, we can find the optimal values of the parameters that maximize the accuracy of the model on the training data and generalize well to new data."
      ],
      "metadata": {
        "id": "lO2RvL9PBTVt"
      }
    },
    {
      "cell_type": "markdown",
      "source": [
        "**Q5. Describe the multiple linear regression model. How does it differ from simple linear regression?**"
      ],
      "metadata": {
        "id": "t8mAupoWCdX0"
      }
    },
    {
      "cell_type": "markdown",
      "source": [
        "In a multiple linear regression model, we predict the value of a dependent variable (also called the response variable) based on two or more independent variables (also called predictors or features). The multiple linear regression model is an extension of the simple linear regression model, which predicts the value of the dependent variable based on a single independent variable.\n",
        "\n",
        "The multiple linear regression model differs from the simple linear regression model in several ways.\n",
        "\n",
        "Firstly, the multiple linear regression model involves multiple independent variables instead of just one. This means that the model can capture more complex relationships between the dependent and independent variables, allowing us to control for the effects of other variables on the dependent variable.\n",
        "Secondly, the multiple linear regression model requires more parameters to estimate (i.e., b1, b2, ..., bp), which makes the model more complex and computationally intensive"
      ],
      "metadata": {
        "id": "Db294yqQCmJ0"
      }
    },
    {
      "cell_type": "markdown",
      "source": [
        "**Q6. Explain the concept of multicollinearity in multiple linear regression. How can you detect and\n",
        "address this issue?**"
      ],
      "metadata": {
        "id": "Cg00bWHYSsmQ"
      }
    },
    {
      "cell_type": "markdown",
      "source": [
        "Multicollinearity occurs when two or more independent variables have a high correlation with one another in a regression model, which makes it difficult to determine the individual effect of each independent variable on the dependent variable.\n",
        "\n",
        "Detecting multicollinearity can be done using several methods, such as:\n",
        "\n",
        "**Correlation matrix:** A correlation matrix can be used to identify the correlation between the independent variables. If two or more variables have a high correlation coefficient (close to 1 or -1), it suggests that there may be multicollinearity in the model.\n",
        "\n",
        "**Variance Inflation Factor (VIF):** The VIF is a measure of the extent to which the variance of the estimated regression coefficients is inflated due to multicollinearity. A VIF value greater than 5 or 10 suggests that there may be multicollinearity in the model.\n",
        "\n",
        "**Eigenvalues:** The eigenvalues of the correlation matrix can be used to detect multicollinearity. If one or more eigenvalues are close to zero, it suggests that there may be multicollinearity in the model.\n",
        "\n",
        "Some of the ways we can address this issue are:\n",
        "\n",
        "**Drop one or more of the highly correlated variables:** One way to address multicollinearity is to drop one or more of the highly correlated variables from the model. This can help to reduce the correlation between the remaining variables and improve the accuracy of the model's predictions.\n",
        "\n",
        "**Combine the highly correlated variables:** Another way to address multicollinearity is to combine the highly correlated variables into a single variable. For example, if two variables measure the same concept but in different ways, we can create a composite variable that captures both concepts.\n",
        "\n",
        "**Regularization:** Regularization techniques, such as Ridge Regression and Lasso Regression, can be used to address multicollinearity by penalizing the magnitude of the regression coefficients. This can help to reduce the impact of the highly correlated variables and improve the accuracy of the model's predictions."
      ],
      "metadata": {
        "id": "F_U_J172Sy4m"
      }
    },
    {
      "cell_type": "markdown",
      "source": [
        "**Q7. Describe the polynomial regression model. How is it different from linear regression?**"
      ],
      "metadata": {
        "id": "zwyuc3kkbqlL"
      }
    },
    {
      "cell_type": "markdown",
      "source": [
        "A polynomial regression model is a type of regression analysis that allows for non-linear relationships between the dependent variable and one or more independent variables. Unlike linear regression, which assumes a linear relationship between the dependent variable and the independent variables, polynomial regression can model more complex relationships.\n",
        "\n",
        "The main difference between linear regression and polynomial regression is the nature of the relationship between the dependent variable and the independent variable. In linear regression, the relationship is assumed to be linear, while in polynomial regression, the relationship can be non-linear and can take on a more complex shape. Polynomial regression allows for more flexibility in modeling the relationship between the variables and can provide a better fit to the data when the relationship is non-linear."
      ],
      "metadata": {
        "id": "YTphAobbeP_W"
      }
    },
    {
      "cell_type": "markdown",
      "source": [
        "\n",
        "**Q8. What are the advantages and disadvantages of polynomial regression compared to linear\n",
        "regression? In what situations would you prefer to use polynomial regression?**"
      ],
      "metadata": {
        "id": "FZ98aMG8R6-j"
      }
    },
    {
      "cell_type": "markdown",
      "source": [
        "Advantages of polynomial regression:\n",
        "\n",
        "**Flexibility:** Polynomial regression can model non-linear relationships between the dependent and independent variables, allowing for more flexibility in modeling complex relationships.\n",
        "\n",
        "**Higher accuracy:** Polynomial regression can provide a better fit to the data when the relationship between the variables is non-linear, leading to higher accuracy of predictions compared to linear regression.\n",
        "\n",
        "**Interpretability:** Polynomial regression can provide insight into the curvature of the relationship between the variables, which may be useful in certain applications.\n",
        "Disadvantages of polynomial regression:\n",
        "\n",
        "**Overfitting:** Higher degree polynomial functions can easily overfit the data and may not generalize well to new data, leading to poor performance on test data.\n",
        "\n",
        "**Extrapolation:** Polynomial regression can be prone to errors when used for extrapolation, as the relationship between the variables may not be well-defined outside the range of the data used to train the model.\n",
        "\n",
        "**Model selection:** Selecting the degree of the polynomial can be challenging, as a higher degree polynomial may lead to overfitting, while a lower degree polynomial may not capture the true relationship between the variables."
      ],
      "metadata": {
        "id": "NAe91CdHeW1b"
      }
    }
  ]
}